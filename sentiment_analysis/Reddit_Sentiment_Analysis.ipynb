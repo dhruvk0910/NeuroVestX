{
 "cells": [
  {
   "cell_type": "code",
   "execution_count": 1,
   "metadata": {},
   "outputs": [
    {
     "name": "stderr",
     "output_type": "stream",
     "text": [
      "c:\\Users\\amish\\AppData\\Local\\Programs\\Python\\Python312\\Lib\\site-packages\\tqdm\\auto.py:21: TqdmWarning: IProgress not found. Please update jupyter and ipywidgets. See https://ipywidgets.readthedocs.io/en/stable/user_install.html\n",
      "  from .autonotebook import tqdm as notebook_tqdm\n",
      "c:\\Users\\amish\\AppData\\Local\\Programs\\Python\\Python312\\Lib\\site-packages\\huggingface_hub\\file_download.py:142: UserWarning: `huggingface_hub` cache-system uses symlinks by default to efficiently store duplicated files but your machine does not support them in C:\\Users\\amish\\.cache\\huggingface\\hub\\models--distilbert-base-uncased. Caching files will still work but in a degraded version that might require more space on your disk. This warning can be disabled by setting the `HF_HUB_DISABLE_SYMLINKS_WARNING` environment variable. For more details, see https://huggingface.co/docs/huggingface_hub/how-to-cache#limitations.\n",
      "To support symlinks on Windows, you either need to activate Developer Mode or to run Python as an administrator. In order to activate developer mode, see this article: https://docs.microsoft.com/en-us/windows/apps/get-started/enable-your-device-for-development\n",
      "  warnings.warn(message)\n"
     ]
    },
    {
     "name": "stdout",
     "output_type": "stream",
     "text": [
      "[{'title': 'trading options vs stock equity', 'text': 'hey guys ive been looking through this subreddit and it looks like a lot of you trade call and put options on stocks instead of the actual stock equity itself \\n\\nive read a few books on stock options trading when i considered doing it not considering anymore and it always surprised me why people would do it because it seems way more risky and more importantly much much more difficult in stock options you often have to deal with not just the risk of the stocks price move but also implied volatility time decay and delta and on top of that you risk losing the entire premium paid for the option if the stocks price doesnt go overunder your strike price and these premiums can get very expensive if you lose a couple of bets in a row\\n\\nobviously theres multiple different ways you could combine these options to lower or amplify your risk but to me that just gives more points of riskfailure of losing your investment if you dont consider and do the proper dd\\n\\nthis is not to say people shouldnt trade options im just not smart enough to trade them profitably but for those of you who do trade options how profitable has it been for you and how much more difficult is it than simply trading stock equity and is the increased difficulty worth it', 'upvotes': 0, 'created_utc': datetime.datetime(2025, 3, 19, 20, 15, 47), 'num_comments': 1, 'comments': [], 'permalink': 'https://www.reddit.com/r/stocks/comments/1jeynrl/trading_options_vs_stock_equity/'}, {'title': 'boj keeps interest rates steady warns of trump tariff risks', 'text': '\\nboard keeps shortterm policy rate steady at 05\\n\\ngovernor ueda warns of heightening global uncertainty\\n\\nueda says domestic economy in line with bojs forecasts\\n\\nwage food price gains may affect underlying inflation\\n\\ntokyo march 19 reutersreuters\\n  the bank of japan kept interest rates steady on wednesday and warned of heightening global economic uncertainty suggesting the timing of further rate hikes will depend largely on the fallout from potentially higher us tariffs\\n\\nbut governor kazuo ueda also said rising food costs and strongerthanexpected wage growth could push up underlying inflation highlighting the central banks attention to mounting domestic price pressures\\n\\njapans wage and price conditions are on track possibly stronger than expected but the uncertain us and global outlook makes it difficult to assess the potential impact on japans economy ueda told a press conference\\n\\nas such we would like to look at upcoming data in early april to reconsider our forecasts ueda said\\n\\nhe offered few hints on the next ratehike timing but said the boj did not necessarily need to wait until everything is clear on the impact of us tariffs in pulling the trigger\\n\\n', 'upvotes': 24, 'created_utc': datetime.datetime(2025, 3, 19, 20, 5, 41), 'num_comments': 1, 'comments': ['hi youre on rstocks please make sure your post is related to stocks or the stockmarket or it will most likely get removed as being offtopicpolitical feel free to edit it now and be more specific\\n\\nto everyone commenting  please focus on how this affects the stock market or specific stocks or it will be removed as being offtopicpolitical\\n\\nif youre interested in just politics see our wiki on relevant subreddits and post to those reddit communities instead without linking back here thanks\\n\\ni am a bot and this action was performed automatically please contact the moderators of this subredditmessagecomposetorstocks if you have any questions or concerns'], 'permalink': 'https://www.reddit.com/r/stocks/comments/1jeyfml/boj_keeps_interest_rates_steady_warns_of_trump/'}, {'title': 'becoming rich', 'text': 'what do you guys think if my goal is to sleep well at night but also to get rich eventually should i focus on making riskier investments stocks instead of indizes or take more risks in life to raise capital via a sidehustlebusiness etc \\n\\ni feel like choosing the later is easier to deal with because life is mostly in your control meanwhile i cant control whats going on in the market but of what opinion are you guys \\nrisky investments or risky life ', 'upvotes': 0, 'created_utc': datetime.datetime(2025, 3, 19, 20, 1, 20), 'num_comments': 20, 'comments': ['risk return  sleepless night', 'theta decay does not improve sleep quality', 'thug life only bruv', 'how old are you\\n\\nid say maximize income and invest in sp because its very hard to flip coins heads 5 times in a row low risks investments arent going to explode up all the sudden but they should still increase over time \\n\\nif you can make 100200k and save a good portion then you can keep low risk investments and grow them over time 2030 years of saving 50k plus in sp annually and youll be rich\\n\\nif you have no income youd have to make risky plays that are just as likely to destroy your portfolio as they are to grow it', 'why would you waste your energy with a business just yolo some options much easier you even do it while sleeping if you learn to sleepwalk', 'the only risky investment is the one you dont fully understand', 'start with a risk you can stomach over time youll adjust naturally as youll learn how much risk tolerance you can and cant stomach have at least 2 accounts treat one as almost no risk learn in the other', 'por qu debes elegir una de ellas el riesgo debe diversificarse creo que es de pobres pensar en que solo hay una forna haz ambas', 'why cant you make calculated risks and get a good amount of sleep at night', 'less dreaming more working'], 'permalink': 'https://www.reddit.com/r/stocks/comments/1jeyc6d/becoming_rich/'}]\n"
     ]
    }
   ],
   "source": [
    "import praw\n",
    "import datetime\n",
    "import re\n",
    "from transformers import AutoTokenizer, AutoModelForSequenceClassification\n",
    "import torch\n",
    "\n",
    "# Load tokenizer and model for text preprocessing\n",
    "tokenizer = AutoTokenizer.from_pretrained(\"distilbert-base-uncased\")\n",
    "\n",
    "def preprocess_text(text):\n",
    "    \"\"\"Cleans and tokenizes text for sentiment analysis.\"\"\"\n",
    "    text = text.lower()  # Convert to lowercase\n",
    "    text = re.sub(r'http\\S+', '', text)  # Remove URLs\n",
    "    text = re.sub(r'[^a-zA-Z0-9\\s]', '', text)  # Remove special characters\n",
    "    return text\n",
    "\n",
    "def get_reddit_posts_and_comments(subreddit_name, limit=50, comment_limit=10):\n",
    "    \"\"\"Fetch recent posts and top comments from a subreddit using Reddit API (PRAW).\"\"\"\n",
    "    # Set up Reddit API credentials (replace with your own keys)\n",
    "    reddit = praw.Reddit(\n",
    "        client_id=\"client_id\", \n",
    "        client_secret=\"client_secret\", \n",
    "        user_agent=\"Project_name/1.0 (by /u/Name)\" \n",
    "    )\n",
    "    \n",
    "    subreddit = reddit.subreddit(subreddit_name)\n",
    "    posts = []\n",
    "    \n",
    "    for post in subreddit.new(limit=limit):\n",
    "        comments = []\n",
    "        post.comments.replace_more(limit=0)  # Load all top-level comments\n",
    "        for comment in post.comments.list()[:comment_limit]:\n",
    "            comments.append(preprocess_text(comment.body))\n",
    "        \n",
    "        posts.append({\n",
    "            \"title\": preprocess_text(post.title),\n",
    "            \"text\": preprocess_text(post.selftext),\n",
    "            \"upvotes\": post.score,\n",
    "            \"created_utc\": datetime.datetime.fromtimestamp(post.created_utc),\n",
    "            \"num_comments\": post.num_comments,\n",
    "            \"comments\": comments,\n",
    "            \"permalink\": f\"https://www.reddit.com{post.permalink}\"\n",
    "        })\n",
    "    \n",
    "    return posts\n",
    "\n",
    "# Example usage:\n",
    "subreddits = [\"stocks\", \"investing\", \"wallstreetbets\"]\n",
    "all_posts = []\n",
    "for sub in subreddits:\n",
    "    all_posts.extend(get_reddit_posts_and_comments(sub))\n",
    "\n",
    "print(all_posts[:3])  # Print sample data\n"
   ]
  },
  {
   "cell_type": "code",
   "execution_count": 5,
   "metadata": {},
   "outputs": [
    {
     "name": "stderr",
     "output_type": "stream",
     "text": [
      "[nltk_data] Downloading package vader_lexicon to\n",
      "[nltk_data]     C:\\Users\\amish\\AppData\\Roaming\\nltk_data...\n",
      "[nltk_data]   Package vader_lexicon is already up-to-date!\n"
     ]
    },
    {
     "name": "stdout",
     "output_type": "stream",
     "text": [
      "Market Sentiment Score: 0.146\n",
      "Current Market Trend: Bullish 📈\n"
     ]
    }
   ],
   "source": [
    "from nltk.sentiment import SentimentIntensityAnalyzer\n",
    "import nltk\n",
    "import numpy as np\n",
    "\n",
    "nltk.download(\"vader_lexicon\")\n",
    "\n",
    "sia = SentimentIntensityAnalyzer()\n",
    "\n",
    "def analyze_sentiment(text):\n",
    "    \"\"\"Returns the compound sentiment score of a given text using VADER.\"\"\"\n",
    "    if not text.strip():\n",
    "        return 0.0\n",
    "    return sia.polarity_scores(text)[\"compound\"]\n",
    "\n",
    "sentiment_scores = []\n",
    "for post in all_posts:\n",
    "    title_sentiment = analyze_sentiment(post[\"title\"])\n",
    "    text_sentiment = analyze_sentiment(post[\"text\"])\n",
    "    comments_sentiment = [analyze_sentiment(comment) for comment in post[\"comments\"]]\n",
    "\n",
    "    total_sentiments = [title_sentiment, text_sentiment] + comments_sentiment\n",
    "    post_avg_sentiment = np.mean(total_sentiments) if total_sentiments else 0.0\n",
    "\n",
    "    post[\"title_sentiment\"] = title_sentiment\n",
    "    post[\"text_sentiment\"] = text_sentiment\n",
    "    post[\"comments_sentiment\"] = comments_sentiment\n",
    "    post[\"post_sentiment_score\"] = post_avg_sentiment\n",
    "    sentiment_scores.append(post_avg_sentiment)\n",
    "\n",
    "market_sentiment_score = np.mean(sentiment_scores) if sentiment_scores else 0.0\n",
    "\n",
    "if market_sentiment_score > 0.05:\n",
    "    market_trend = \"Bullish 📈\"\n",
    "elif market_sentiment_score < -0.05:\n",
    "    market_trend = \"Bearish 📉\"\n",
    "else:\n",
    "    market_trend = \"Neutral ⚖️\"\n",
    "\n",
    "print(f\"Market Sentiment Score: {market_sentiment_score:.3f}\")\n",
    "print(f\"Current Market Trend: {market_trend}\")\n",
    "\n",
    "\n"
   ]
  },
  {
   "cell_type": "code",
   "execution_count": 7,
   "metadata": {},
   "outputs": [
    {
     "name": "stdout",
     "output_type": "stream",
     "text": [
      "Data saved successfully! 🚀\n"
     ]
    }
   ],
   "source": [
    "import json\n",
    "import pandas as pd\n",
    "\n",
    "for post in all_posts:\n",
    "    post[\"created_utc\"] = post[\"created_utc\"].isoformat()\n",
    "\n",
    "with open(\"reddit_sentiment_data.json\", \"w\") as f:\n",
    "    json.dump(all_posts, f, indent=4)\n",
    "\n",
    "df = pd.DataFrame(all_posts)\n",
    "\n",
    "df.to_csv(\"reddit_sentiment_data.csv\", index=False)\n",
    "\n",
    "print(\"Data saved successfully! 🚀\")\n",
    "\n"
   ]
  },
  {
   "cell_type": "code",
   "execution_count": null,
   "metadata": {},
   "outputs": [],
   "source": [
    "with open(\"reddit_sentiment_data.json\", \"r\") as f:\n",
    "    all_posts = json.load(f)\n",
    "\n",
    "for post in all_posts:\n",
    "    post[\"created_utc\"] = datetime.datetime.fromisoformat(post[\"created_utc\"])\n",
    "\n",
    "df = pd.read_csv(\"reddit_sentiment_data.csv\")\n",
    "all_posts = df.to_dict(orient=\"records\")\n",
    "\n",
    "print(\"Data loaded successfully! ✅\")\n"
   ]
  }
 ],
 "metadata": {
  "kernelspec": {
   "display_name": "Python 3",
   "language": "python",
   "name": "python3"
  },
  "language_info": {
   "codemirror_mode": {
    "name": "ipython",
    "version": 3
   },
   "file_extension": ".py",
   "mimetype": "text/x-python",
   "name": "python",
   "nbconvert_exporter": "python",
   "pygments_lexer": "ipython3",
   "version": "3.12.9"
  }
 },
 "nbformat": 4,
 "nbformat_minor": 2
}
