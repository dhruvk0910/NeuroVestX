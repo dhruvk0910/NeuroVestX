{
 "cells": [
  {
   "cell_type": "markdown",
   "metadata": {},
   "source": [
    "Code to Delete all rows from the table"
   ]
  },
  {
   "cell_type": "code",
   "execution_count": null,
   "metadata": {},
   "outputs": [
    {
     "name": "stdout",
     "output_type": "stream",
     "text": [
      "❌ Error deleting data: name 'supabase' is not defined\n"
     ]
    }
   ],
   "source": [
    "import datetime\n",
    "import yfinance as yf\n",
    "import finnhub\n",
    "import json\n",
    "import time\n",
    "import pandas as pd\n",
    "from supabase import create_client\n",
    "\n",
    "SUPABASE_URL = \"url\"\n",
    "SUPABASE_KEY = \"key\"\n",
    "supabase = create_client(SUPABASE_URL, SUPABASE_KEY)\n",
    "\n",
    "FINNHUB_KEY = \"api_key\"\n",
    "finnhub_client = finnhub.Client(api_key=FINNHUB_KEY)\n",
    "\n",
    "def delete_existing_data():\n",
    "    print(\"🗑️ Deleting all existing data from stock_data...\")\n",
    "    try:\n",
    "        response = supabase.table(\"stock_data\").delete().neq(\"symbol\", \"\").execute()\n",
    "        print(\"✅ All data deleted successfully.\")\n",
    "    except Exception as e:\n",
    "        print(f\"❌ Error deleting existing data: {str(e)}\")\n",
    "\n",
    "def fetch_historical_data(symbol):\n",
    "    print(f\"📊 Fetching historical data for {symbol}...\")\n",
    "    try:\n",
    "        df = yf.download(symbol, period=\"1y\", interval=\"1d\")\n",
    "        \n",
    "        df.reset_index(inplace=True)\n",
    "        if isinstance(df.columns, pd.MultiIndex):\n",
    "            df.columns = df.columns.get_level_values(0)\n",
    "        \n",
    "        df.rename(columns={\"Date\": \"date\", \"Open\": \"open\", \"High\": \"high\", \"Low\": \"low\", \"Close\": \"close\", \"Volume\": \"volume\"}, inplace=True)\n",
    "        \n",
    "        df[\"symbol\"] = symbol\n",
    "        df[\"date\"] = df[\"date\"].astype(str)\n",
    "        df[\"open\"] = df[\"open\"].astype(float)\n",
    "        df[\"high\"] = df[\"high\"].astype(float)\n",
    "        df[\"low\"] = df[\"low\"].astype(float)\n",
    "        df[\"close\"] = df[\"close\"].astype(float)\n",
    "        df[\"volume\"] = df[\"volume\"].fillna(0).astype(int)\n",
    "\n",
    "        return df.to_dict(orient='records')\n",
    "    except Exception as e:\n",
    "        print(f\"⚠️ Error fetching data for {symbol}: {str(e)}\")\n",
    "        return None\n",
    "\n",
    "def fetch_real_time_data(symbol):\n",
    "    print(f\"📈 Fetching real-time data for {symbol}...\")\n",
    "    try:\n",
    "        if \"-USD\" in symbol:\n",
    "            ticker = yf.Ticker(symbol)\n",
    "            df = ticker.history(period=\"1d\")\n",
    "            if df.empty:\n",
    "                raise ValueError(\"Yahoo Finance returned empty data for crypto\")\n",
    "            real_time_data = {\n",
    "                \"symbol\": symbol,\n",
    "                \"date\": datetime.datetime.now(datetime.UTC).isoformat(),\n",
    "                \"open\": float(df[\"Open\"].iloc[-1]),\n",
    "                \"high\": float(df[\"High\"].iloc[-1]),\n",
    "                \"low\": float(df[\"Low\"].iloc[-1]),\n",
    "                \"close\": float(df[\"Close\"].iloc[-1]),\n",
    "                \"volume\": int(df[\"Volume\"].iloc[-1]) if not df[\"Volume\"].isna().iloc[-1] else 0\n",
    "            }\n",
    "        else:\n",
    "            quote = finnhub_client.quote(symbol)\n",
    "            volume_data = int(yf.Ticker(symbol).history(period='1d')[\"Volume\"].iloc[-1])  \n",
    "            real_time_data = {\n",
    "                \"symbol\": symbol,\n",
    "                \"date\": datetime.datetime.now(datetime.UTC).isoformat(),\n",
    "                \"open\": quote[\"o\"],\n",
    "                \"high\": quote[\"h\"],\n",
    "                \"low\": quote[\"l\"],\n",
    "                \"close\": quote[\"c\"],\n",
    "                \"volume\": volume_data\n",
    "            }\n",
    "        return real_time_data\n",
    "    except Exception as e:\n",
    "        print(f\"❌ Error fetching real-time data for {symbol}: {str(e)}\")\n",
    "        return None\n",
    "\n",
    "def insert_to_supabase(data):\n",
    "    try:\n",
    "        if isinstance(data, list):\n",
    "            for batch in [data[i:i + 100] for i in range(0, len(data), 100)]:\n",
    "                response = supabase.table(\"stock_data\").insert(batch).execute()\n",
    "        else:\n",
    "            response = supabase.table(\"stock_data\").upsert([data], on_conflict=[\"symbol\", \"date\"]).execute()\n",
    "        print(f\"✅ Successfully inserted {len(data) if isinstance(data, list) else 1} rows into stock_data\")\n",
    "    except Exception as e:\n",
    "        print(f\"❌ Error inserting data into stock_data: {str(e)}\")\n",
    "\n",
    "def main():\n",
    "    symbols = [\"AAPL\", \"MSFT\", \"GOOGL\", \"AMZN\", \"NVDA\", \"TSLA\", \"SPY\", \"QQQ\", \"BTC-USD\", \"ETH-USD\"]\n",
    "    \n",
    "    for symbol in symbols:\n",
    "        hist_data = fetch_historical_data(symbol)\n",
    "        if hist_data:\n",
    "            insert_to_supabase(hist_data)\n",
    "        \n",
    "        real_time_data = fetch_real_time_data(symbol)\n",
    "        if real_time_data:\n",
    "            insert_to_supabase(real_time_data)\n",
    "    \n",
    "    print(\"⏳ Waiting 5 minutes for next update...\")\n",
    "    time.sleep(300)\n",
    "\n",
    "if __name__ == \"__main__\":\n",
    "    while True:\n",
    "        main()\n"
   ]
  },
  {
   "cell_type": "markdown",
   "metadata": {},
   "source": [
    "💀❌ Code to delete all rows from your database\n",
    "\n",
    "    Run function below\n"
   ]
  },
  {
   "cell_type": "code",
   "execution_count": 2,
   "metadata": {},
   "outputs": [],
   "source": [
    "#delete_existing_data()"
   ]
  },
  {
   "cell_type": "code",
   "execution_count": null,
   "metadata": {},
   "outputs": [],
   "source": []
  }
 ],
 "metadata": {
  "kernelspec": {
   "display_name": "Python 3",
   "language": "python",
   "name": "python3"
  },
  "language_info": {
   "codemirror_mode": {
    "name": "ipython",
    "version": 3
   },
   "file_extension": ".py",
   "mimetype": "text/x-python",
   "name": "python",
   "nbconvert_exporter": "python",
   "pygments_lexer": "ipython3",
   "version": "3.12.9"
  }
 },
 "nbformat": 4,
 "nbformat_minor": 2
}
